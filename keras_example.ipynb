{
 "cells": [
  {
   "cell_type": "code",
   "execution_count": 1,
   "metadata": {},
   "outputs": [],
   "source": [
    "import pandas as pd"
   ]
  },
  {
   "cell_type": "code",
   "execution_count": 108,
   "metadata": {},
   "outputs": [],
   "source": [
    "df = pd.read_csv('data/alturas-pesos-mils-train.csv')"
   ]
  },
  {
   "cell_type": "code",
   "execution_count": 109,
   "metadata": {},
   "outputs": [],
   "source": [
    "from sklearn.preprocessing import StandardScaler"
   ]
  },
  {
   "cell_type": "code",
   "execution_count": 111,
   "metadata": {},
   "outputs": [],
   "source": [
    "sc = StandardScaler()"
   ]
  },
  {
   "cell_type": "code",
   "execution_count": 112,
   "metadata": {},
   "outputs": [
    {
     "data": {
      "text/plain": [
       "StandardScaler()"
      ]
     },
     "execution_count": 112,
     "metadata": {},
     "output_type": "execute_result"
    }
   ],
   "source": [
    "sc.fit(df[['Peso', 'Altura']])"
   ]
  },
  {
   "cell_type": "code",
   "execution_count": 116,
   "metadata": {},
   "outputs": [],
   "source": [
    "df[['Peso_norm', 'Alt_norm']] = sc.transform(df[['Peso', 'Altura']])"
   ]
  },
  {
   "cell_type": "code",
   "execution_count": 121,
   "metadata": {},
   "outputs": [],
   "source": [
    "df['coded_gen'] = (df['Genero'] == 'Mujer')*1"
   ]
  },
  {
   "cell_type": "code",
   "execution_count": 122,
   "metadata": {},
   "outputs": [
    {
     "data": {
      "text/html": [
       "<div>\n",
       "<style scoped>\n",
       "    .dataframe tbody tr th:only-of-type {\n",
       "        vertical-align: middle;\n",
       "    }\n",
       "\n",
       "    .dataframe tbody tr th {\n",
       "        vertical-align: top;\n",
       "    }\n",
       "\n",
       "    .dataframe thead th {\n",
       "        text-align: right;\n",
       "    }\n",
       "</style>\n",
       "<table border=\"1\" class=\"dataframe\">\n",
       "  <thead>\n",
       "    <tr style=\"text-align: right;\">\n",
       "      <th></th>\n",
       "      <th>Unnamed: 0</th>\n",
       "      <th>Genero</th>\n",
       "      <th>Peso</th>\n",
       "      <th>Altura</th>\n",
       "      <th>Peso_norm</th>\n",
       "      <th>Alt_norm</th>\n",
       "      <th>coded_gen</th>\n",
       "    </tr>\n",
       "  </thead>\n",
       "  <tbody>\n",
       "    <tr>\n",
       "      <th>0</th>\n",
       "      <td>7620</td>\n",
       "      <td>Mujer</td>\n",
       "      <td>61.235</td>\n",
       "      <td>162.402</td>\n",
       "      <td>-0.791004</td>\n",
       "      <td>-0.581114</td>\n",
       "      <td>1</td>\n",
       "    </tr>\n",
       "    <tr>\n",
       "      <th>1</th>\n",
       "      <td>1837</td>\n",
       "      <td>Hombre</td>\n",
       "      <td>97.432</td>\n",
       "      <td>181.908</td>\n",
       "      <td>1.684210</td>\n",
       "      <td>1.403542</td>\n",
       "      <td>0</td>\n",
       "    </tr>\n",
       "    <tr>\n",
       "      <th>2</th>\n",
       "      <td>3311</td>\n",
       "      <td>Hombre</td>\n",
       "      <td>73.324</td>\n",
       "      <td>172.459</td>\n",
       "      <td>0.035663</td>\n",
       "      <td>0.442145</td>\n",
       "      <td>0</td>\n",
       "    </tr>\n",
       "    <tr>\n",
       "      <th>3</th>\n",
       "      <td>9478</td>\n",
       "      <td>Mujer</td>\n",
       "      <td>55.193</td>\n",
       "      <td>157.748</td>\n",
       "      <td>-1.204167</td>\n",
       "      <td>-1.054640</td>\n",
       "      <td>1</td>\n",
       "    </tr>\n",
       "    <tr>\n",
       "      <th>4</th>\n",
       "      <td>7805</td>\n",
       "      <td>Mujer</td>\n",
       "      <td>56.886</td>\n",
       "      <td>151.798</td>\n",
       "      <td>-1.088396</td>\n",
       "      <td>-1.660028</td>\n",
       "      <td>1</td>\n",
       "    </tr>\n",
       "    <tr>\n",
       "      <th>...</th>\n",
       "      <td>...</td>\n",
       "      <td>...</td>\n",
       "      <td>...</td>\n",
       "      <td>...</td>\n",
       "      <td>...</td>\n",
       "      <td>...</td>\n",
       "      <td>...</td>\n",
       "    </tr>\n",
       "    <tr>\n",
       "      <th>7995</th>\n",
       "      <td>6395</td>\n",
       "      <td>Mujer</td>\n",
       "      <td>62.215</td>\n",
       "      <td>160.083</td>\n",
       "      <td>-0.723990</td>\n",
       "      <td>-0.817063</td>\n",
       "      <td>1</td>\n",
       "    </tr>\n",
       "    <tr>\n",
       "      <th>7996</th>\n",
       "      <td>2714</td>\n",
       "      <td>Hombre</td>\n",
       "      <td>83.840</td>\n",
       "      <td>177.866</td>\n",
       "      <td>0.754765</td>\n",
       "      <td>0.992285</td>\n",
       "      <td>0</td>\n",
       "    </tr>\n",
       "    <tr>\n",
       "      <th>7997</th>\n",
       "      <td>3476</td>\n",
       "      <td>Hombre</td>\n",
       "      <td>75.461</td>\n",
       "      <td>170.910</td>\n",
       "      <td>0.181795</td>\n",
       "      <td>0.284540</td>\n",
       "      <td>0</td>\n",
       "    </tr>\n",
       "    <tr>\n",
       "      <th>7998</th>\n",
       "      <td>7084</td>\n",
       "      <td>Mujer</td>\n",
       "      <td>65.461</td>\n",
       "      <td>166.137</td>\n",
       "      <td>-0.502023</td>\n",
       "      <td>-0.201093</td>\n",
       "      <td>1</td>\n",
       "    </tr>\n",
       "    <tr>\n",
       "      <th>7999</th>\n",
       "      <td>3346</td>\n",
       "      <td>Hombre</td>\n",
       "      <td>80.323</td>\n",
       "      <td>171.575</td>\n",
       "      <td>0.514267</td>\n",
       "      <td>0.352201</td>\n",
       "      <td>0</td>\n",
       "    </tr>\n",
       "  </tbody>\n",
       "</table>\n",
       "<p>8000 rows × 7 columns</p>\n",
       "</div>"
      ],
      "text/plain": [
       "      Unnamed: 0  Genero    Peso   Altura  Peso_norm  Alt_norm  coded_gen\n",
       "0           7620   Mujer  61.235  162.402  -0.791004 -0.581114          1\n",
       "1           1837  Hombre  97.432  181.908   1.684210  1.403542          0\n",
       "2           3311  Hombre  73.324  172.459   0.035663  0.442145          0\n",
       "3           9478   Mujer  55.193  157.748  -1.204167 -1.054640          1\n",
       "4           7805   Mujer  56.886  151.798  -1.088396 -1.660028          1\n",
       "...          ...     ...     ...      ...        ...       ...        ...\n",
       "7995        6395   Mujer  62.215  160.083  -0.723990 -0.817063          1\n",
       "7996        2714  Hombre  83.840  177.866   0.754765  0.992285          0\n",
       "7997        3476  Hombre  75.461  170.910   0.181795  0.284540          0\n",
       "7998        7084   Mujer  65.461  166.137  -0.502023 -0.201093          1\n",
       "7999        3346  Hombre  80.323  171.575   0.514267  0.352201          0\n",
       "\n",
       "[8000 rows x 7 columns]"
      ]
     },
     "execution_count": 122,
     "metadata": {},
     "output_type": "execute_result"
    }
   ],
   "source": [
    "df"
   ]
  },
  {
   "cell_type": "code",
   "execution_count": 15,
   "metadata": {},
   "outputs": [
    {
     "data": {
      "text/plain": [
       "(121.68700000000001, 31.206999999999997)"
      ]
     },
     "execution_count": 15,
     "metadata": {},
     "output_type": "execute_result"
    }
   ],
   "source": [
    "df['Peso'].max(), df['Peso'].min()"
   ]
  },
  {
   "cell_type": "code",
   "execution_count": 16,
   "metadata": {},
   "outputs": [
    {
     "data": {
      "text/plain": [
       "(199.824, 138.866)"
      ]
     },
     "execution_count": 16,
     "metadata": {},
     "output_type": "execute_result"
    }
   ],
   "source": [
    "df['Altura'].max(), df['Altura'].min()"
   ]
  },
  {
   "cell_type": "code",
   "execution_count": 5,
   "metadata": {},
   "outputs": [],
   "source": [
    "from sklearn.linear_model import LogisticRegression"
   ]
  },
  {
   "cell_type": "code",
   "execution_count": 6,
   "metadata": {},
   "outputs": [],
   "source": [
    "clf = LogisticRegression()"
   ]
  },
  {
   "cell_type": "code",
   "execution_count": 7,
   "metadata": {},
   "outputs": [
    {
     "data": {
      "text/plain": [
       "LogisticRegression()"
      ]
     },
     "execution_count": 7,
     "metadata": {},
     "output_type": "execute_result"
    }
   ],
   "source": [
    "clf.fit(df[['Peso', 'Altura']], df['Genero'])"
   ]
  },
  {
   "cell_type": "code",
   "execution_count": 8,
   "metadata": {},
   "outputs": [
    {
     "data": {
      "text/plain": [
       "(array([[-0.4286322 ,  0.18549582]]), array([0.00347453]))"
      ]
     },
     "execution_count": 8,
     "metadata": {},
     "output_type": "execute_result"
    }
   ],
   "source": [
    "clf.coef_, clf.intercept_"
   ]
  },
  {
   "cell_type": "markdown",
   "metadata": {},
   "source": [
    "# Keras"
   ]
  },
  {
   "cell_type": "code",
   "execution_count": 197,
   "metadata": {},
   "outputs": [],
   "source": [
    "from keras.models import Sequential\n",
    "from keras.layers import Dense\n",
    "import keras.optimizers as optim"
   ]
  },
  {
   "cell_type": "code",
   "execution_count": 208,
   "metadata": {},
   "outputs": [
    {
     "name": "stdout",
     "output_type": "stream",
     "text": [
      "Model: \"sequential_36\"\n",
      "_________________________________________________________________\n",
      " Layer (type)                Output Shape              Param #   \n",
      "=================================================================\n",
      " dense_36 (Dense)            (None, 1)                 3         \n",
      "                                                                 \n",
      "=================================================================\n",
      "Total params: 3\n",
      "Trainable params: 3\n",
      "Non-trainable params: 0\n",
      "_________________________________________________________________\n"
     ]
    },
    {
     "data": {
      "text/plain": [
       "[array([[-0.49595308],\n",
       "        [ 1.3453645 ]], dtype=float32),\n",
       " array([0.], dtype=float32)]"
      ]
     },
     "execution_count": 208,
     "metadata": {},
     "output_type": "execute_result"
    }
   ],
   "source": [
    "model = Sequential()\n",
    "model.add(Dense(1, input_shape=(2,), activation='sigmoid'))\n",
    "model.summary()\n",
    "\n",
    "model.compile(optimizer=optim.Adam(learning_rate=0.001), loss='binary_crossentropy', metrics='Accuracy')\n",
    "model.get_weights()"
   ]
  },
  {
   "cell_type": "code",
   "execution_count": null,
   "metadata": {},
   "outputs": [],
   "source": []
  },
  {
   "cell_type": "code",
   "execution_count": 209,
   "metadata": {},
   "outputs": [
    {
     "name": "stdout",
     "output_type": "stream",
     "text": [
      "Epoch 1/50\n",
      "250/250 [==============================] - 0s 648us/step - loss: 0.9302 - Accuracy: 0.2794\n",
      "Epoch 2/50\n",
      "250/250 [==============================] - 0s 653us/step - loss: 0.7233 - Accuracy: 0.4893\n",
      "Epoch 3/50\n",
      "250/250 [==============================] - 0s 680us/step - loss: 0.5789 - Accuracy: 0.7846\n",
      "Epoch 4/50\n",
      "250/250 [==============================] - 0s 653us/step - loss: 0.4825 - Accuracy: 0.8954\n",
      "Epoch 5/50\n",
      "250/250 [==============================] - 0s 686us/step - loss: 0.4184 - Accuracy: 0.9153\n",
      "Epoch 6/50\n",
      "250/250 [==============================] - 0s 736us/step - loss: 0.3744 - Accuracy: 0.9146\n",
      "Epoch 7/50\n",
      "250/250 [==============================] - 0s 854us/step - loss: 0.3433 - Accuracy: 0.9125\n",
      "Epoch 8/50\n",
      "250/250 [==============================] - 0s 804us/step - loss: 0.3207 - Accuracy: 0.9090\n",
      "Epoch 9/50\n",
      "250/250 [==============================] - 0s 934us/step - loss: 0.3037 - Accuracy: 0.9072\n",
      "Epoch 10/50\n",
      "250/250 [==============================] - 0s 795us/step - loss: 0.2908 - Accuracy: 0.9047\n",
      "Epoch 11/50\n",
      "250/250 [==============================] - 0s 860us/step - loss: 0.2807 - Accuracy: 0.9038\n",
      "Epoch 12/50\n",
      "250/250 [==============================] - 0s 1ms/step - loss: 0.2728 - Accuracy: 0.9025\n",
      "Epoch 13/50\n",
      "250/250 [==============================] - 0s 1ms/step - loss: 0.2665 - Accuracy: 0.9018\n",
      "Epoch 14/50\n",
      "250/250 [==============================] - 0s 788us/step - loss: 0.2614 - Accuracy: 0.9019\n",
      "Epoch 15/50\n",
      "250/250 [==============================] - 0s 1ms/step - loss: 0.2572 - Accuracy: 0.9010\n",
      "Epoch 16/50\n",
      "250/250 [==============================] - 0s 1ms/step - loss: 0.2537 - Accuracy: 0.9007\n",
      "Epoch 17/50\n",
      "250/250 [==============================] - 0s 969us/step - loss: 0.2507 - Accuracy: 0.9005\n",
      "Epoch 18/50\n",
      "250/250 [==============================] - 0s 982us/step - loss: 0.2481 - Accuracy: 0.9009\n",
      "Epoch 19/50\n",
      "250/250 [==============================] - 0s 806us/step - loss: 0.2458 - Accuracy: 0.9006\n",
      "Epoch 20/50\n",
      "250/250 [==============================] - 0s 678us/step - loss: 0.2437 - Accuracy: 0.9009\n",
      "Epoch 21/50\n",
      "250/250 [==============================] - 0s 703us/step - loss: 0.2418 - Accuracy: 0.9015\n",
      "Epoch 22/50\n",
      "250/250 [==============================] - 0s 739us/step - loss: 0.2400 - Accuracy: 0.9018\n",
      "Epoch 23/50\n",
      "250/250 [==============================] - 0s 860us/step - loss: 0.2383 - Accuracy: 0.9024\n",
      "Epoch 24/50\n",
      "250/250 [==============================] - 0s 1ms/step - loss: 0.2366 - Accuracy: 0.9025\n",
      "Epoch 25/50\n",
      "250/250 [==============================] - 0s 972us/step - loss: 0.2350 - Accuracy: 0.9035\n",
      "Epoch 26/50\n",
      "250/250 [==============================] - 0s 720us/step - loss: 0.2334 - Accuracy: 0.9040\n",
      "Epoch 27/50\n",
      "250/250 [==============================] - 0s 879us/step - loss: 0.2319 - Accuracy: 0.9050\n",
      "Epoch 28/50\n",
      "250/250 [==============================] - 0s 703us/step - loss: 0.2304 - Accuracy: 0.9047\n",
      "Epoch 29/50\n",
      "250/250 [==============================] - 0s 698us/step - loss: 0.2290 - Accuracy: 0.9051\n",
      "Epoch 30/50\n",
      "250/250 [==============================] - 0s 850us/step - loss: 0.2276 - Accuracy: 0.9062\n",
      "Epoch 31/50\n",
      "250/250 [==============================] - 0s 712us/step - loss: 0.2263 - Accuracy: 0.9070\n",
      "Epoch 32/50\n",
      "250/250 [==============================] - 0s 666us/step - loss: 0.2251 - Accuracy: 0.9075\n",
      "Epoch 33/50\n",
      "250/250 [==============================] - 0s 664us/step - loss: 0.2239 - Accuracy: 0.9087\n",
      "Epoch 34/50\n",
      "250/250 [==============================] - 0s 686us/step - loss: 0.2229 - Accuracy: 0.9090\n",
      "Epoch 35/50\n",
      "250/250 [==============================] - 0s 689us/step - loss: 0.2219 - Accuracy: 0.9090\n",
      "Epoch 36/50\n",
      "250/250 [==============================] - 0s 714us/step - loss: 0.2210 - Accuracy: 0.9099\n",
      "Epoch 37/50\n",
      "250/250 [==============================] - 0s 728us/step - loss: 0.2201 - Accuracy: 0.9096\n",
      "Epoch 38/50\n",
      "250/250 [==============================] - 0s 848us/step - loss: 0.2193 - Accuracy: 0.9100\n",
      "Epoch 39/50\n",
      "250/250 [==============================] - 0s 850us/step - loss: 0.2186 - Accuracy: 0.9106\n",
      "Epoch 40/50\n",
      "250/250 [==============================] - 0s 932us/step - loss: 0.2180 - Accuracy: 0.9110\n",
      "Epoch 41/50\n",
      "250/250 [==============================] - 0s 1ms/step - loss: 0.2174 - Accuracy: 0.9121\n",
      "Epoch 42/50\n",
      "250/250 [==============================] - 0s 987us/step - loss: 0.2168 - Accuracy: 0.9121\n",
      "Epoch 43/50\n",
      "250/250 [==============================] - 0s 869us/step - loss: 0.2163 - Accuracy: 0.9124\n",
      "Epoch 44/50\n",
      "250/250 [==============================] - 0s 720us/step - loss: 0.2159 - Accuracy: 0.9133\n",
      "Epoch 45/50\n",
      "250/250 [==============================] - 0s 837us/step - loss: 0.2154 - Accuracy: 0.9131\n",
      "Epoch 46/50\n",
      "250/250 [==============================] - 0s 737us/step - loss: 0.2150 - Accuracy: 0.9131\n",
      "Epoch 47/50\n",
      "250/250 [==============================] - 0s 708us/step - loss: 0.2147 - Accuracy: 0.9130\n",
      "Epoch 48/50\n",
      "250/250 [==============================] - 0s 733us/step - loss: 0.2144 - Accuracy: 0.9134\n",
      "Epoch 49/50\n",
      "250/250 [==============================] - 0s 720us/step - loss: 0.2141 - Accuracy: 0.9137\n",
      "Epoch 50/50\n",
      "250/250 [==============================] - 0s 703us/step - loss: 0.2138 - Accuracy: 0.9135\n"
     ]
    }
   ],
   "source": [
    "hist = model.fit(df[['Peso_norm', 'Alt_norm']].values, df['coded_gen'].values, epochs=50)"
   ]
  },
  {
   "cell_type": "code",
   "execution_count": 210,
   "metadata": {},
   "outputs": [
    {
     "data": {
      "text/plain": [
       "[array([[-5.096652],\n",
       "        [ 1.02123 ]], dtype=float32),\n",
       " array([-0.02632075], dtype=float32)]"
      ]
     },
     "execution_count": 210,
     "metadata": {},
     "output_type": "execute_result"
    }
   ],
   "source": [
    "model.get_weights()"
   ]
  },
  {
   "cell_type": "code",
   "execution_count": 211,
   "metadata": {},
   "outputs": [
    {
     "data": {
      "text/plain": [
       "'binary_crossentropy'"
      ]
     },
     "execution_count": 211,
     "metadata": {},
     "output_type": "execute_result"
    }
   ],
   "source": [
    "model.loss"
   ]
  },
  {
   "cell_type": "code",
   "execution_count": 212,
   "metadata": {},
   "outputs": [
    {
     "data": {
      "text/plain": [
       "[<matplotlib.lines.Line2D at 0x7fda7ca08d90>]"
      ]
     },
     "execution_count": 212,
     "metadata": {},
     "output_type": "execute_result"
    },
    {
     "data": {
      "image/png": "[encoded data removed]",
      "text/plain": [
       "<Figure size 432x288 with 1 Axes>"
      ]
     },
     "metadata": {
      "needs_background": "light"
     },
     "output_type": "display_data"
    }
   ],
   "source": [
    "plt.plot(hist.history['Accuracy'])"
   ]
  },
  {
   "cell_type": "code",
   "execution_count": 213,
   "metadata": {},
   "outputs": [
    {
     "data": {
      "text/plain": [
       "[<matplotlib.lines.Line2D at 0x7fda7cd7b8b0>]"
      ]
     },
     "execution_count": 213,
     "metadata": {},
     "output_type": "execute_result"
    },
    {
     "data": {
      "image/png": "[encoded data removed]",
      "text/plain": [
       "<Figure size 432x288 with 1 Axes>"
      ]
     },
     "metadata": {
      "needs_background": "light"
     },
     "output_type": "display_data"
    }
   ],
   "source": [
    "plt.plot(hist.history['loss'])"
   ]
  },
  {
   "cell_type": "code",
   "execution_count": 137,
   "metadata": {},
   "outputs": [],
   "source": [
    "from matplotlib import pyplot as plt"
   ]
  },
  {
   "cell_type": "code",
   "execution_count": 138,
   "metadata": {},
   "outputs": [],
   "source": [
    "df_hombres = df[df['Genero'] == 'Hombre']\n",
    "df_mujeres = df[df['Genero'] == 'Mujer']"
   ]
  },
  {
   "cell_type": "code",
   "execution_count": 139,
   "metadata": {},
   "outputs": [],
   "source": [
    "weights = model.get_weights()"
   ]
  },
  {
   "cell_type": "code",
   "execution_count": 140,
   "metadata": {},
   "outputs": [
    {
     "data": {
      "text/plain": [
       "[array([[-4.8032055],\n",
       "        [ 0.8074303]], dtype=float32),\n",
       " array([-0.02686926], dtype=float32)]"
      ]
     },
     "execution_count": 140,
     "metadata": {},
     "output_type": "execute_result"
    }
   ],
   "source": [
    "weights"
   ]
  },
  {
   "cell_type": "code",
   "execution_count": 141,
   "metadata": {},
   "outputs": [],
   "source": [
    "w1 = weights[0][0][0]\n",
    "w2 = weights[0][1][0]\n",
    "w0 = weights[1][0]"
   ]
  },
  {
   "cell_type": "code",
   "execution_count": 142,
   "metadata": {},
   "outputs": [
    {
     "data": {
      "text/plain": [
       "(-4.8032055, 0.8074303, -0.026869263)"
      ]
     },
     "execution_count": 142,
     "metadata": {},
     "output_type": "execute_result"
    }
   ],
   "source": [
    "w1, w2, w0"
   ]
  },
  {
   "cell_type": "code",
   "execution_count": 143,
   "metadata": {},
   "outputs": [],
   "source": [
    "import numpy as np"
   ]
  },
  {
   "cell_type": "code",
   "execution_count": 144,
   "metadata": {},
   "outputs": [],
   "source": [
    "pesos = np.linspace(-1, 1, 100)\n",
    "alturas = - w0/w2 - w1*pesos/w2"
   ]
  },
  {
   "cell_type": "code",
   "execution_count": 145,
   "metadata": {},
   "outputs": [],
   "source": [
    "# alturas"
   ]
  },
  {
   "cell_type": "code",
   "execution_count": 146,
   "metadata": {},
   "outputs": [
    {
     "data": {
      "text/plain": [
       "[<matplotlib.lines.Line2D at 0x7fda7bd0a520>]"
      ]
     },
     "execution_count": 146,
     "metadata": {},
     "output_type": "execute_result"
    },
    {
     "data": {
      "image/png": "[encoded data removed]",
      "text/plain": [
       "<Figure size 1440x720 with 1 Axes>"
      ]
     },
     "metadata": {
      "needs_background": "light"
     },
     "output_type": "display_data"
    }
   ],
   "source": [
    "f = plt.figure(figsize=(20, 10))\n",
    "plt.scatter(df_hombres['Peso_norm'], df_hombres['Alt_norm'])\n",
    "plt.scatter(df_mujeres['Peso_norm'], df_mujeres['Alt_norm'])\n",
    "plt.plot(pesos, alturas)"
   ]
  },
  {
   "cell_type": "code",
   "execution_count": 150,
   "metadata": {},
   "outputs": [],
   "source": [
    "x = np.array([\n",
    "    [80, 170],\n",
    "    [50, 164]\n",
    "])"
   ]
  },
  {
   "cell_type": "code",
   "execution_count": 156,
   "metadata": {},
   "outputs": [],
   "source": [
    "x_norm = sc.transform(x)"
   ]
  },
  {
   "cell_type": "code",
   "execution_count": 157,
   "metadata": {},
   "outputs": [
    {
     "data": {
      "text/plain": [
       "array([[ 0.49217931,  0.19195141],\n",
       "       [-1.55927324, -0.41852414]])"
      ]
     },
     "execution_count": 157,
     "metadata": {},
     "output_type": "execute_result"
    }
   ],
   "source": [
    "x_norm"
   ]
  },
  {
   "cell_type": "code",
   "execution_count": 155,
   "metadata": {},
   "outputs": [
    {
     "name": "stdout",
     "output_type": "stream",
     "text": [
      "1/1 [==============================] - 0s 37ms/step\n"
     ]
    },
    {
     "data": {
      "text/plain": [
       "array([[0.09657089],\n",
       "       [0.9991957 ]], dtype=float32)"
      ]
     },
     "execution_count": 155,
     "metadata": {},
     "output_type": "execute_result"
    }
   ],
   "source": [
    "model.predict(x_norm)"
   ]
  },
  {
   "cell_type": "code",
   "execution_count": 158,
   "metadata": {},
   "outputs": [
    {
     "data": {
      "text/plain": [
       "array([[ 80., 170.],\n",
       "       [ 50., 164.]])"
      ]
     },
     "execution_count": 158,
     "metadata": {},
     "output_type": "execute_result"
    }
   ],
   "source": [
    "sc.inverse_transform(x_norm)"
   ]
  },
  {
   "cell_type": "code",
   "execution_count": 215,
   "metadata": {},
   "outputs": [
    {
     "name": "stdout",
     "output_type": "stream",
     "text": [
      "250/250 [==============================] - 0s 645us/step - loss: 0.2136 - Accuracy: 0.9133\n"
     ]
    },
    {
     "data": {
      "text/plain": [
       "[0.21362793445587158, 0.9132500290870667]"
      ]
     },
     "execution_count": 215,
     "metadata": {},
     "output_type": "execute_result"
    }
   ],
   "source": [
    "model.evaluate(df[['Peso_norm', 'Alt_norm']].values, df['coded_gen'].values)"
   ]
  },
  {
   "cell_type": "code",
   "execution_count": null,
   "metadata": {},
   "outputs": [],
   "source": []
  }
 ],
 "metadata": {
  "kernelspec": {
   "display_name": "Python 3",
   "language": "python",
   "name": "python3"
  },
  "language_info": {
   "codemirror_mode": {
    "name": "ipython",
    "version": 3
   },
   "file_extension": ".py",
   "mimetype": "text/x-python",
   "name": "python",
   "nbconvert_exporter": "python",
   "pygments_lexer": "ipython3",
   "version": "3.8.5"
  }
 },
 "nbformat": 4,
 "nbformat_minor": 4
}
