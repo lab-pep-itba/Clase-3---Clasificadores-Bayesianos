{
 "cells": [
  {
   "cell_type": "code",
   "execution_count": 3,
   "metadata": {},
   "outputs": [
    {
     "name": "stdout",
     "output_type": "stream",
     "text": [
      "The autoreload extension is already loaded. To reload it, use:\n",
      "  %reload_ext autoreload\n"
     ]
    }
   ],
   "source": [
    "# Estos dos comandos evitan que haya que hacer reload cada vez que se modifica un paquete\n",
    "%load_ext autoreload\n",
    "%autoreload 2"
   ]
  },
  {
   "cell_type": "code",
   "execution_count": 4,
   "metadata": {},
   "outputs": [],
   "source": [
    "import numpy as np\n",
    "from matplotlib import pyplot as plt\n",
    "# from problema_1 import plot_bar_chart\n",
    "# Importo el paquete para graficar\n",
    "from matplotlib import pyplot as plt"
   ]
  },
  {
   "cell_type": "markdown",
   "metadata": {},
   "source": [
    "# Naive bayes - Clasificación\n",
    "\n",
    "### Bibliografía recomendada\n",
    "https://nlp.stanford.edu/IR-book/ - Capitulo 13 -  \n",
    "http://scikit-learn.org/stable/modules/naive_bayes.html#naive-bayes"
   ]
  },
  {
   "cell_type": "markdown",
   "metadata": {},
   "source": [
    "## Ejemplos"
   ]
  },
  {
   "cell_type": "markdown",
   "metadata": {},
   "source": [
    "![](./images/student-admission.png)"
   ]
  },
  {
   "cell_type": "markdown",
   "metadata": {},
   "source": [
    "![](./images/chip-test.png)"
   ]
  },
  {
   "cell_type": "markdown",
   "metadata": {},
   "source": [
    "## Introducción teórica"
   ]
  },
  {
   "cell_type": "markdown",
   "metadata": {},
   "source": [
    "### Teorema de Bayes\n",
    "$P(y|x_1,x_2,...,x_n) = \\large \\frac{P(x_1, x_2,...,x_n|y) P(y)}{P(x_1,x_2,...,x_n)}$"
   ]
  },
  {
   "cell_type": "markdown",
   "metadata": {},
   "source": [
    "El numerador:\n",
    "\n",
    "$ \\large P(x_1, x_2,...,x_n|y) P(y) = P(y, x_1, x_2,...,x_n)$"
   ]
  },
  {
   "cell_type": "markdown",
   "metadata": {},
   "source": [
    "Por la regla de la cadena:\n",
    "\n",
    "$P(x_1,x_2, x_3, y) = P(x_1 | x_2, x_3,y)P(x_2,x_3, y) = P(x_1 | x_2, x_3,y)P(x_2|x_3, y)P(x_3, y) = P(x_1 | x_2, x_3,y)P(x_2|x_3, y)P(x_3| y)P(y)$"
   ]
  },
  {
   "cell_type": "markdown",
   "metadata": {},
   "source": [
    "$P(x_1,x_2, x_3, y) = P(x_1 | x_2, x_3,y)P(x_2|x_3, y)P(x_3| y)P(y)$"
   ]
  },
  {
   "cell_type": "markdown",
   "metadata": {},
   "source": [
    "#### Ejemplo con Aplicación SPAM"
   ]
  },
  {
   "cell_type": "markdown",
   "metadata": {},
   "source": [
    "$ P(SPAM| comprar,oferta,ganaste) = \\frac{P(comprar | oferta, ganaste,SPAM)P(oferta|ganaste, SPAM)P(ganaste| SPAM)P(SPAM)}{P(comprar, oferta, ganaste)}$"
   ]
  },
  {
   "cell_type": "markdown",
   "metadata": {},
   "source": [
    "$P(comprar,oferta,ganaste,SPAM) = P(comprar | oferta, ganaste,SPAM)P(oferta|ganaste, SPAM)P(ganaste| SPAM)P(SPAM)$"
   ]
  },
  {
   "cell_type": "markdown",
   "metadata": {},
   "source": [
    "Asumiendo independencia\n",
    "\n",
    "$P(x_i|y) = P(x_i|y,x_1,...)$\n",
    "\n",
    "$P(comprar,oferta,ganaste,SPAM) = P(comprar | SPAM)P(oferta|SPAM)P(ganaste| SPAM)P(SPAM)$"
   ]
  },
  {
   "cell_type": "markdown",
   "metadata": {},
   "source": [
    "$ P(SPAM| comprar,oferta,ganaste) = $  \n",
    "$  \\frac{P(comprar|SPAM)P(oferta|SPAM)P(ganaste| SPAM)P(SPAM)}{P(comprar, oferta, ganaste)}$"
   ]
  },
  {
   "cell_type": "code",
   "execution_count": null,
   "metadata": {},
   "outputs": [],
   "source": []
  },
  {
   "cell_type": "markdown",
   "metadata": {},
   "source": [
    "### Naive Bayes\n",
    "\n",
    "$\\huge P(y|x_1,x_2,...,x_n) = \\huge \\frac{P(y)\\prod P(x_i/y)} {P(x_1,x_2,...,x_n)} = \\alpha {P(y)\\prod P(x_i/y)}$\n",
    "\n",
    "(Compararlo con teorema de Bayes)"
   ]
  },
  {
   "cell_type": "markdown",
   "metadata": {},
   "source": [
    "$\\large \\hat{y} = arg max_y [{P(y)\\prod P(x_i/y)}]$"
   ]
  },
  {
   "cell_type": "markdown",
   "metadata": {},
   "source": [
    "Ejemplo SPAM: \n",
    "\n",
    "La variable aleatoria $y$ puede ser: [SPAM, NO_SPAM]. Calculo ${P(y)\\prod P(x_i/y)}$ para ambos casos y me quedo con el mayor\n",
    "\n",
    "Como el denominador es el mismo para ambos casos, no hace falta calcularlo"
   ]
  },
  {
   "cell_type": "markdown",
   "metadata": {},
   "source": [
    "## Detección de SPAM\n",
    "V. Metsis, I. Androutsopoulos and G. Paliouras (2006). Spam filtering with Naive Bayes – Which Naive Bayes? 3rd Conf. on Email and Anti-Spam (CEAS).\n",
    "http://citeseerx.ist.psu.edu/viewdoc/download;jsessionid=1EEA3C5EE5DDF8409BCC0F09BFB7D98B?doi=10.1.1.61.5542&rep=rep1&type=pdf\n",
    "\n",
    "Tenemos un dataset donde ya esta preprocesado el texto\n",
    "- Lemmatization, stemming\n",
    "- Stop words"
   ]
  },
  {
   "cell_type": "code",
   "execution_count": 22,
   "metadata": {},
   "outputs": [],
   "source": [
    "from sklearn.feature_extraction.text import CountVectorizer\n"
   ]
  },
  {
   "cell_type": "code",
   "execution_count": 23,
   "metadata": {},
   "outputs": [],
   "source": [
    "import os\n",
    "from collections import Counter\n",
    "train_dir = './ling-spam/train-mails'\n",
    "emails = [os.path.join(train_dir,f) for f in os.listdir(train_dir)] "
   ]
  },
  {
   "cell_type": "code",
   "execution_count": 7,
   "metadata": {},
   "outputs": [
    {
     "data": {
      "text/plain": [
       "(['./ling-spam/train-mails/6-338msg1.txt',\n",
       "  './ling-spam/train-mails/5-1300msg3.txt',\n",
       "  './ling-spam/train-mails/6-250msg1.txt',\n",
       "  './ling-spam/train-mails/6-266msg3.txt',\n",
       "  './ling-spam/train-mails/spmsgc10.txt',\n",
       "  './ling-spam/train-mails/5-1326msg1.txt',\n",
       "  './ling-spam/train-mails/spmsga114.txt',\n",
       "  './ling-spam/train-mails/spmsga100.txt',\n",
       "  './ling-spam/train-mails/6-110msg3.txt',\n",
       "  './ling-spam/train-mails/6-126msg1.txt'],\n",
       " 702)"
      ]
     },
     "execution_count": 7,
     "metadata": {},
     "output_type": "execute_result"
    }
   ],
   "source": [
    "emails[0:10], len(emails)"
   ]
  },
  {
   "cell_type": "code",
   "execution_count": 8,
   "metadata": {},
   "outputs": [
    {
     "name": "stdout",
     "output_type": "stream",
     "text": [
      "0 Subject: re : 6 . 189 innateness / language & specy\n",
      "\n",
      "1 \n",
      "\n",
      "2 those interest language species discussion , mention teach undergraduate seminar quarter topic ( call ape language - - cover \" ( human ) language ? \" \" american sign language ? \" \" train ape ? \" evolutionary aspect . ) anyone copy syllabus reading , glad send one . rachel lagunoff ucla\n",
      "\n"
     ]
    }
   ],
   "source": [
    "m = open(emails[2])\n",
    "for i,line in enumerate(m):\n",
    "    print(i, line)\n",
    "m.close()"
   ]
  },
  {
   "cell_type": "code",
   "execution_count": 9,
   "metadata": {},
   "outputs": [
    {
     "name": "stdout",
     "output_type": "stream",
     "text": [
      "<_io.TextIOWrapper name='./ling-spam/train-mails/6-250msg1.txt' mode='r' encoding='UTF-8'>\n",
      "0 Subject: re : 6 . 189 innateness / language & specy\n",
      "\n",
      "1 \n",
      "\n",
      "2 those interest language species discussion , mention teach undergraduate seminar quarter topic ( call ape language - - cover \" ( human ) language ? \" \" american sign language ? \" \" train ape ? \" evolutionary aspect . ) anyone copy syllabus reading , glad send one . rachel lagunoff ucla\n",
      "\n"
     ]
    }
   ],
   "source": [
    "with open(emails[2]) as m:\n",
    "    print(m)\n",
    "    for i,line in enumerate(m):\n",
    "        print(i, line)"
   ]
  },
  {
   "cell_type": "code",
   "execution_count": 10,
   "metadata": {},
   "outputs": [],
   "source": [
    "def make_Dictionary(train_dir):\n",
    "    # Train dir es la carpeta para parsear\n",
    "    emails_array = []\n",
    "    labels = []\n",
    "    # Emails es una lista con los nombres de los archivos\n",
    "    emails = [os.path.join(train_dir,f) for f in os.listdir(train_dir)] \n",
    "    # All words contendrá todas las palabras del mail\n",
    "    all_words = []       \n",
    "    for mail in emails:\n",
    "        # mail es el nombre del archivo\n",
    "        with open(mail) as m:\n",
    "            # m es el archivo abierto\n",
    "            if 'spmsg' in mail.split('/')[-1]:\n",
    "                # Si el nombre del archivo contiene 'spmsg' es spam\n",
    "                labels.append(True)\n",
    "            else:\n",
    "                labels.append(False)\n",
    "            # email_str va a guardar el mail como string\n",
    "            email_str = ''\n",
    "            for i,line in enumerate(m):\n",
    "                if i == 2:  #Body of email is only 3rd line of text file\n",
    "                    words = line.split()\n",
    "                    all_words += words\n",
    "                    email_str = email_str + ' ' + line\n",
    "            emails_array.append(email_str)\n",
    "    dictionary = Counter(all_words)\n",
    "    return dictionary, emails_array, labels\n",
    "\n",
    "def remove_uncommon_words(dictionary):\n",
    "    # Dictionary es un counter\n",
    "    dict_copy = { k : v for k,v in dictionary.items()}\n",
    "    list_to_remove = dictionary.keys()\n",
    "    for item in list_to_remove:\n",
    "        if item.isalpha() == False: \n",
    "            # Remueve lo que no sean palabras con letras del abcedario\n",
    "            del dict_copy[item]\n",
    "        elif len(item) == 1:\n",
    "            # Remueve las palabras de una letra\n",
    "            del dict_copy[item]\n",
    "    return Counter(dict_copy)"
   ]
  },
  {
   "cell_type": "code",
   "execution_count": 24,
   "metadata": {},
   "outputs": [],
   "source": [
    "def read_emails_and_get_dict(folder, max_features=3000):\n",
    "    dictionary, emails_array, labels = make_Dictionary(folder)\n",
    "    dictionary = remove_uncommon_words(dictionary)\n",
    "    dictionary = dictionary.most_common(max_features)\n",
    "    vocabulary = [key[0] for key in dictionary]\n",
    "    return vocabulary, emails_array, np.array(labels)"
   ]
  },
  {
   "cell_type": "code",
   "execution_count": 28,
   "metadata": {},
   "outputs": [
    {
     "data": {
      "text/plain": [
       "' bisfai deadline extension ! deadline bar - ilan symposium foundation artificial intelligence extend february 27 . conference itself place schedule , june 20-22 , ramat - gan jerusalem , israel . information contact : bisfaus @ bimac . c . biu . ac . il daniel radzinskus tovna translation machine jerusalem , israel dr @ tovna . co . il\\n'"
      ]
     },
     "execution_count": 28,
     "metadata": {},
     "output_type": "execute_result"
    }
   ],
   "source": [
    "# emails_array[3]"
   ]
  },
  {
   "cell_type": "code",
   "execution_count": 12,
   "metadata": {},
   "outputs": [],
   "source": [
    "max_features = 3000\n",
    "vocabulary, emails_array, labels = read_emails_and_get_dict('./ling-spam/train-mails', max_features)\n",
    "count_vectorizer = CountVectorizer(vocabulary=vocabulary)\n",
    "feature_matrix = count_vectorizer.fit_transform(emails_array)"
   ]
  },
  {
   "cell_type": "code",
   "execution_count": 13,
   "metadata": {},
   "outputs": [
    {
     "data": {
      "text/plain": [
       "<702x3000 sparse matrix of type '<class 'numpy.int64'>'\n",
       "\twith 82637 stored elements in Compressed Sparse Row format>"
      ]
     },
     "execution_count": 13,
     "metadata": {},
     "output_type": "execute_result"
    }
   ],
   "source": [
    "feature_matrix"
   ]
  },
  {
   "cell_type": "code",
   "execution_count": 14,
   "metadata": {},
   "outputs": [
    {
     "data": {
      "text/plain": [
       "0.960761158594492"
      ]
     },
     "execution_count": 14,
     "metadata": {},
     "output_type": "execute_result"
    }
   ],
   "source": [
    "1-(feature_matrix != 0).sum()/(702*3000)"
   ]
  },
  {
   "cell_type": "code",
   "execution_count": 15,
   "metadata": {},
   "outputs": [],
   "source": [
    "# feature_matrix.todense()[:, 0]"
   ]
  },
  {
   "cell_type": "code",
   "execution_count": 16,
   "metadata": {},
   "outputs": [
    {
     "data": {
      "text/plain": [
       "' those interest language species discussion , mention teach undergraduate seminar quarter topic ( call ape language - - cover \" ( human ) language ? \" \" american sign language ? \" \" train ape ? \" evolutionary aspect . ) anyone copy syllabus reading , glad send one . rachel lagunoff ucla\\n'"
      ]
     },
     "execution_count": 16,
     "metadata": {},
     "output_type": "execute_result"
    }
   ],
   "source": [
    "emails_array[2]"
   ]
  },
  {
   "cell_type": "code",
   "execution_count": 17,
   "metadata": {},
   "outputs": [],
   "source": [
    "# count_vectorizer.vocabulary_"
   ]
  },
  {
   "cell_type": "code",
   "execution_count": 20,
   "metadata": {},
   "outputs": [
    {
     "data": {
      "text/plain": [
       "((702, 3000), (702,))"
      ]
     },
     "execution_count": 20,
     "metadata": {},
     "output_type": "execute_result"
    }
   ],
   "source": [
    "feature_matrix.shape, labels.shape\n",
    "# (702, 19571)"
   ]
  },
  {
   "cell_type": "code",
   "execution_count": 21,
   "metadata": {},
   "outputs": [
    {
     "data": {
      "text/plain": [
       "<702x3000 sparse matrix of type '<class 'numpy.int64'>'\n",
       "\twith 82637 stored elements in Compressed Sparse Row format>"
      ]
     },
     "execution_count": 21,
     "metadata": {},
     "output_type": "execute_result"
    }
   ],
   "source": [
    "feature_matrix"
   ]
  },
  {
   "cell_type": "code",
   "execution_count": 19,
   "metadata": {},
   "outputs": [
    {
     "data": {
      "text/plain": [
       "array([False, False, False, False,  True, False,  True,  True, False,\n",
       "       False])"
      ]
     },
     "execution_count": 19,
     "metadata": {},
     "output_type": "execute_result"
    }
   ],
   "source": [
    "labels[:10]"
   ]
  },
  {
   "cell_type": "code",
   "execution_count": 100,
   "metadata": {},
   "outputs": [
    {
     "data": {
      "text/plain": [
       "351"
      ]
     },
     "execution_count": 100,
     "metadata": {},
     "output_type": "execute_result"
    }
   ],
   "source": [
    "labels.sum()"
   ]
  },
  {
   "cell_type": "code",
   "execution_count": 102,
   "metadata": {},
   "outputs": [
    {
     "data": {
      "text/plain": [
       "98144"
      ]
     },
     "execution_count": 102,
     "metadata": {},
     "output_type": "execute_result"
    }
   ],
   "source": [
    "feature_matrix[labels, :].sum()"
   ]
  },
  {
   "cell_type": "code",
   "execution_count": 103,
   "metadata": {},
   "outputs": [
    {
     "data": {
      "text/plain": [
       "(1, 3000)"
      ]
     },
     "execution_count": 103,
     "metadata": {},
     "output_type": "execute_result"
    }
   ],
   "source": [
    "feature_matrix[labels, :].sum(axis=0)"
   ]
  },
  {
   "cell_type": "code",
   "execution_count": 104,
   "metadata": {},
   "outputs": [],
   "source": [
    "hist_spam = feature_matrix[labels, :].sum(axis=0)/feature_matrix[labels, :].sum()"
   ]
  },
  {
   "cell_type": "code",
   "execution_count": 105,
   "metadata": {},
   "outputs": [
    {
     "data": {
      "text/plain": [
       "(1, 3000)"
      ]
     },
     "execution_count": 105,
     "metadata": {},
     "output_type": "execute_result"
    }
   ],
   "source": [
    "hist_spam.shape"
   ]
  },
  {
   "cell_type": "code",
   "execution_count": 106,
   "metadata": {},
   "outputs": [
    {
     "data": {
      "text/plain": [
       "array([False, False, False, False,  True])"
      ]
     },
     "execution_count": 106,
     "metadata": {},
     "output_type": "execute_result"
    }
   ],
   "source": [
    "labels[:5]"
   ]
  },
  {
   "cell_type": "code",
   "execution_count": 107,
   "metadata": {},
   "outputs": [
    {
     "data": {
      "text/plain": [
       "array([ True,  True,  True,  True, False])"
      ]
     },
     "execution_count": 107,
     "metadata": {},
     "output_type": "execute_result"
    }
   ],
   "source": [
    "~labels[:5]"
   ]
  },
  {
   "cell_type": "code",
   "execution_count": 26,
   "metadata": {},
   "outputs": [
    {
     "data": {
      "text/plain": [
       "702"
      ]
     },
     "execution_count": 26,
     "metadata": {},
     "output_type": "execute_result"
    }
   ],
   "source": [
    "len(labels)"
   ]
  },
  {
   "cell_type": "code",
   "execution_count": 27,
   "metadata": {},
   "outputs": [
    {
     "data": {
      "text/plain": [
       "(351, 3000)"
      ]
     },
     "execution_count": 27,
     "metadata": {},
     "output_type": "execute_result"
    }
   ],
   "source": [
    "feature_matrix[~labels, :].shape"
   ]
  },
  {
   "cell_type": "code",
   "execution_count": 28,
   "metadata": {
    "tags": []
   },
   "outputs": [
    {
     "name": "stdout",
     "output_type": "stream",
     "text": [
      "[False False False False  True False  True  True False False]\n",
      "['order', 'address', 'report', 'mail', 'send', 'language', 'email', 'program', 'our', 'list']\n",
      "  (0, 19)\t1\n",
      "  (0, 24)\t2\n",
      "  (0, 273)\t1\n",
      "  (0, 305)\t1\n",
      "  (0, 533)\t1\n",
      "  (0, 562)\t1\n",
      "  (0, 701)\t1\n",
      "  (0, 717)\t1\n",
      "  (0, 1285)\t1\n",
      "  (0, 1418)\t1\n",
      "  (0, 1650)\t2\n",
      "  (1, 1)\t2\n",
      "  (1, 4)\t3\n",
      "  (1, 5)\t3\n",
      "  (1, 6)\t2\n",
      "  (1, 11)\t1\n",
      "  (1, 12)\t2\n",
      "  (1, 16)\t1\n",
      "  (1, 18)\t3\n",
      "  (1, 19)\t3\n",
      "  (1, 22)\t1\n",
      "  (1, 27)\t2\n",
      "  (1, 29)\t3\n",
      "  (1, 31)\t3\n",
      "  (1, 32)\t1\n",
      "  :\t:\n",
      "  (701, 748)\t1\n",
      "  (701, 800)\t1\n",
      "  (701, 865)\t1\n",
      "  (701, 873)\t1\n",
      "  (701, 913)\t1\n",
      "  (701, 919)\t1\n",
      "  (701, 952)\t1\n",
      "  (701, 1017)\t1\n",
      "  (701, 1150)\t1\n",
      "  (701, 1232)\t1\n",
      "  (701, 1263)\t1\n",
      "  (701, 1355)\t1\n",
      "  (701, 1485)\t1\n",
      "  (701, 1486)\t1\n",
      "  (701, 1603)\t1\n",
      "  (701, 1637)\t1\n",
      "  (701, 1816)\t1\n",
      "  (701, 1825)\t1\n",
      "  (701, 1903)\t1\n",
      "  (701, 2362)\t1\n",
      "  (701, 2402)\t1\n",
      "  (701, 2495)\t1\n",
      "  (701, 2672)\t2\n",
      "  (701, 2777)\t1\n",
      "  (701, 2986)\t1\n"
     ]
    }
   ],
   "source": [
    "print(labels[0:10])\n",
    "print(vocabulary[0:10])\n",
    "print(feature_matrix)"
   ]
  },
  {
   "cell_type": "code",
   "execution_count": 108,
   "metadata": {},
   "outputs": [
    {
     "name": "stdout",
     "output_type": "stream",
     "text": [
      "(1, 3000)\n",
      "[[1423 1302 1216 ...    8    8    8]]\n",
      "[[1424 1303 1217 ...    9    9    9]]\n",
      "157987\n"
     ]
    }
   ],
   "source": [
    "print(feature_matrix.sum(axis=0).shape)\n",
    "print(feature_matrix.sum(axis=0))\n",
    "print(feature_matrix.sum(axis=0) + 1)\n",
    "print((feature_matrix.sum(axis=0) + 1).sum())"
   ]
  },
  {
   "cell_type": "code",
   "execution_count": 109,
   "metadata": {},
   "outputs": [
    {
     "name": "stdout",
     "output_type": "stream",
     "text": [
      "SPAM: 351 HAM: 351 total: 702\n",
      "\n",
      "Palabras diferentes\n",
      "SPAM: 49290 HAM: 33347\n",
      "\n",
      "Cantidad de palabras\n",
      "SPAM: 98144 HAM: 56843\n"
     ]
    }
   ],
   "source": [
    "def get_histogram_from_matrix(alpha, feature_matrix):\n",
    "    # Alpha es para suavizar y evitar la probabilidad cero. Normalmente 1\n",
    "    # Es como agregar un mail con todas las palabras\n",
    "    words_distribution_un = feature_matrix.sum(axis=0) + alpha\n",
    "    words_distribution = words_distribution_un/(words_distribution_un.sum()) # + alpha*feature_matrix.shape[1])\n",
    "    return words_distribution\n",
    "\n",
    "spam_feature_matrix = feature_matrix[labels,:]\n",
    "ham_feature_matrix = feature_matrix[np.logical_not(labels),:]\n",
    "\n",
    "print('SPAM:',labels.nonzero()[0].shape[0],\n",
    "      'HAM:',np.logical_not(labels).nonzero()[0].shape[0],\n",
    "      'total:',len(labels))\n",
    "\n",
    "print()\n",
    "print('Palabras diferentes')\n",
    "print('SPAM:', spam_feature_matrix.nonzero()[0].shape[0],\n",
    "      'HAM:',ham_feature_matrix.nonzero()[0].shape[0])\n",
    "\n",
    "print()\n",
    "print('Cantidad de palabras')\n",
    "print('SPAM:',spam_feature_matrix.sum(), 'HAM:',ham_feature_matrix.sum())\n",
    "\n",
    "\n",
    "# P(x_i/SPAM)\n",
    "spam_words_distribution = get_histogram_from_matrix(1, spam_feature_matrix)\n",
    "# P(x_i/HAM)\n",
    "ham_words_distribution = get_histogram_from_matrix(1, ham_feature_matrix)"
   ]
  },
  {
   "cell_type": "markdown",
   "metadata": {},
   "source": [
    "$\\hat{y} = arg max_y [{P(y)\\prod P(x_i/y)}]$\n",
    "\n",
    "$y = [SPAM, HAM]$"
   ]
  },
  {
   "cell_type": "code",
   "execution_count": 110,
   "metadata": {},
   "outputs": [],
   "source": [
    "def plot_bar_chart(P, vocabulary = None, title='title', show_graph=False):\n",
    "    N = len(P)\n",
    "    if show_graph:\n",
    "        plt.figure(figsize=(20, 5)) # Tamaño del gráfico\n",
    "    indexes = list(range(1, len(P) + 1))\n",
    "    plt.bar(indexes, P, width=0.75, alpha=0.5, label=title) # Grafico\n",
    "#     plt.title(title)\n",
    "\n",
    "    # Definición de indices\n",
    "    if not vocabulary:\n",
    "        string_indexes = [str(i) for i in indexes]\n",
    "    else:\n",
    "        string_indexes = [vocabulary[i-1] for i in indexes]\n",
    "    plt.xlim([0,N+1])\n",
    "    plt.xticks(indexes, string_indexes, fontsize=24) \n",
    "    plt.xticks(rotation=80)\n",
    "    if show_graph:\n",
    "        plt.show()"
   ]
  },
  {
   "cell_type": "code",
   "execution_count": 122,
   "metadata": {},
   "outputs": [
    {
     "data": {
      "text/plain": [
       "<matplotlib.legend.Legend at 0x7ff89ac37490>"
      ]
     },
     "execution_count": 122,
     "metadata": {},
     "output_type": "execute_result"
    },
    {
     "data": {
      "image/png": "[encoded data removed]",
      "text/plain": [
       "<Figure size 2160x360 with 1 Axes>"
      ]
     },
     "metadata": {
      "needs_background": "light"
     },
     "output_type": "display_data"
    }
   ],
   "source": [
    "plt.figure(figsize=(30, 5))\n",
    "N = 50\n",
    "plot_bar_chart(np.array(spam_words_distribution)[0][:N],\n",
    "               vocabulary = vocabulary,\n",
    "               title='SPAM')\n",
    "plot_bar_chart(np.array(ham_words_distribution)[0][:N],\n",
    "               vocabulary = vocabulary,\n",
    "               title='HAM')\n",
    "plt.legend()"
   ]
  },
  {
   "cell_type": "code",
   "execution_count": 124,
   "metadata": {},
   "outputs": [
    {
     "data": {
      "text/plain": [
       "matrix([[1.29419442e-02, 1.12315115e-02, 1.16269873e-02, ...,\n",
       "         3.95475757e-05, 4.94344697e-05, 1.97737879e-05]])"
      ]
     },
     "execution_count": 124,
     "metadata": {},
     "output_type": "execute_result"
    }
   ],
   "source": [
    "spam_words_distribution"
   ]
  },
  {
   "cell_type": "code",
   "execution_count": 125,
   "metadata": {},
   "outputs": [
    {
     "data": {
      "text/plain": [
       "matrix([[1.93840549e-03, 2.80734589e-03, 7.01836472e-04, ...,\n",
       "         1.00262353e-04, 8.35519610e-05, 1.33683138e-04]])"
      ]
     },
     "execution_count": 125,
     "metadata": {},
     "output_type": "execute_result"
    }
   ],
   "source": [
    "ham_words_distribution"
   ]
  },
  {
   "cell_type": "code",
   "execution_count": 119,
   "metadata": {},
   "outputs": [
    {
     "data": {
      "text/plain": [
       "array(['order', 'address', 'report', ..., 'fear', 'preparation', 'extent'],\n",
       "      dtype='<U21')"
      ]
     },
     "execution_count": 119,
     "metadata": {},
     "output_type": "execute_result"
    }
   ],
   "source": [
    "np.array(vocabulary)"
   ]
  },
  {
   "cell_type": "code",
   "execution_count": 120,
   "metadata": {},
   "outputs": [
    {
     "data": {
      "text/plain": [
       "(array([0, 0, 0, 0, 0, 0, 0, 0, 0, 0, 0], dtype=int32),\n",
       " array([  19,   24,  273,  305,  533,  562,  701,  717, 1285, 1418, 1650],\n",
       "       dtype=int32))"
      ]
     },
     "execution_count": 120,
     "metadata": {},
     "output_type": "execute_result"
    }
   ],
   "source": [
    "non_zero_row"
   ]
  },
  {
   "cell_type": "code",
   "execution_count": 126,
   "metadata": {},
   "outputs": [],
   "source": [
    "# np.array(vocabulary)[[1, 2, 5]]"
   ]
  },
  {
   "cell_type": "code",
   "execution_count": 127,
   "metadata": {},
   "outputs": [
    {
     "data": {
      "text/plain": [
       "(array([0, 0, 0, 0, 0, 0, 0, 0, 0, 0, 0], dtype=int32),\n",
       " array([  19,   24,  273,  305,  533,  562,  701,  717, 1285, 1418, 1650],\n",
       "       dtype=int32))"
      ]
     },
     "execution_count": 127,
     "metadata": {},
     "output_type": "execute_result"
    }
   ],
   "source": [
    "non_zero_row"
   ]
  },
  {
   "cell_type": "markdown",
   "metadata": {},
   "source": [
    "$\\large \\hat{y} = arg max_y [{P(y)\\prod P(x_i/y)}]$"
   ]
  },
  {
   "cell_type": "code",
   "execution_count": 128,
   "metadata": {
    "tags": []
   },
   "outputs": [
    {
     "name": "stdout",
     "output_type": "stream",
     "text": [
      "Email preprocesado:  n't quite qualify , ' overlook ' means opposite ' over ' : \" accountant over record overlook deduction . . . \" - - - university californium riverside , ca 92521\n",
      "\n",
      "Palabras: ['university' 'over' 'ca' 'record' 'means' 'quite' 'qualify' 'californium'\n",
      " 'opposite' 'accountant' 'overlook']\n",
      "Primer email codificado:\n",
      "  (0, 19)\t1\n",
      "  (0, 24)\t2\n",
      "  (0, 273)\t1\n",
      "  (0, 305)\t1\n",
      "  (0, 533)\t1\n",
      "  (0, 562)\t1\n",
      "  (0, 701)\t1\n",
      "  (0, 717)\t1\n",
      "  (0, 1285)\t1\n",
      "  (0, 1418)\t1\n",
      "  (0, 1650)\t2\n",
      "Elementos distintos de cero: [  19   24  273  305  533  562  701  717 1285 1418 1650]\n",
      "Producto, no es necesario [P(Y) = P(SPAM) = P(HAM)] por que es para ambos casos igual. Lo mismo el denominador\n",
      "6.445539154956255e-47\n",
      "2.3514539425668175e-43\n",
      "Log likelihood\n",
      "[[-106.35811108]]\n",
      "[[-98.15612516]]\n"
     ]
    }
   ],
   "source": [
    "# Veamos si el primer email es SPAM o no\n",
    "# El primer mail corresponde a la primer fila de la matriz\n",
    "idx = 0\n",
    "row = feature_matrix[idx,:]\n",
    "\n",
    "non_zero_row = row.nonzero()\n",
    "print('Email preprocesado:', emails_array[idx])\n",
    "print('Palabras:', np.array(vocabulary)[non_zero_row[1]])\n",
    "print('Primer email codificado:')\n",
    "print(row)\n",
    "print('Elementos distintos de cero:',non_zero_row[1])\n",
    "print('Producto, no es necesario [P(Y) = P(SPAM) = P(HAM)] por que es para ambos casos igual. Lo mismo el denominador')\n",
    "print(np.power(spam_words_distribution[non_zero_row], feature_matrix[non_zero_row]).prod())\n",
    "print(np.power(ham_words_distribution[non_zero_row], feature_matrix[non_zero_row]).prod())\n",
    "print('Log likelihood')\n",
    "print(np.log(spam_words_distribution[non_zero_row])*feature_matrix[non_zero_row].T)\n",
    "print(np.log(ham_words_distribution[non_zero_row])*feature_matrix[non_zero_row].T)"
   ]
  },
  {
   "cell_type": "code",
   "execution_count": 129,
   "metadata": {},
   "outputs": [
    {
     "data": {
      "text/plain": [
       "array(['university', 'over', 'ca', 'record', 'means', 'quite', 'qualify',\n",
       "       'californium', 'opposite', 'accountant', 'overlook'], dtype='<U21')"
      ]
     },
     "execution_count": 129,
     "metadata": {},
     "output_type": "execute_result"
    }
   ],
   "source": [
    "np.array(vocabulary)[non_zero_row[1]]"
   ]
  },
  {
   "cell_type": "code",
   "execution_count": 130,
   "metadata": {},
   "outputs": [
    {
     "data": {
      "text/plain": [
       "' n\\'t quite qualify , \\' overlook \\' means opposite \\' over \\' : \" accountant over record overlook deduction . . . \" - - - university californium riverside , ca 92521\\n'"
      ]
     },
     "execution_count": 130,
     "metadata": {},
     "output_type": "execute_result"
    }
   ],
   "source": [
    "emails_array[0]"
   ]
  },
  {
   "cell_type": "markdown",
   "metadata": {},
   "source": [
    "¿Por que usamos log likelihood?"
   ]
  },
  {
   "cell_type": "code",
   "execution_count": 131,
   "metadata": {},
   "outputs": [],
   "source": [
    "def get_accuracy(feature_matrix, labels, spam_words_distribution, ham_words_distribution):\n",
    "    P_SPAM = labels.nonzero()[0].shape[0]/len(labels) # Por que no es necesario en este caso?\n",
    "    P_HAM = np.logical_not(labels).nonzero()[0].shape[0]/len(labels) # Por que no es necesario en este caso?\n",
    "    correct_count = 0\n",
    "    for i, row in enumerate(feature_matrix):\n",
    "        coded_email = row.nonzero()\n",
    "        spam_prod = np.log(spam_words_distribution[coded_email]) * feature_matrix[i][coded_email].T\n",
    "        ham_prod = np.log(ham_words_distribution[coded_email]) * feature_matrix[i][coded_email].T\n",
    "        spam_log_likelihood = spam_prod + np.log(P_SPAM)\n",
    "        ham_log_likelihood = ham_prod + np.log(P_HAM)\n",
    "        SPAM = spam_log_likelihood>=ham_log_likelihood\n",
    "        if SPAM == labels[i]:\n",
    "            correct_count = correct_count + 1\n",
    "    print('%0.3f'%(correct_count/len(labels)))"
   ]
  },
  {
   "cell_type": "code",
   "execution_count": 133,
   "metadata": {},
   "outputs": [
    {
     "name": "stdout",
     "output_type": "stream",
     "text": [
      "0.990\n"
     ]
    }
   ],
   "source": [
    "get_accuracy(feature_matrix, labels, spam_words_distribution, ham_words_distribution)"
   ]
  },
  {
   "cell_type": "markdown",
   "metadata": {},
   "source": [
    "## Test set"
   ]
  },
  {
   "cell_type": "code",
   "execution_count": 134,
   "metadata": {},
   "outputs": [],
   "source": [
    "_, emails_array, labels_test = read_emails_and_get_dict('./ling-spam/test-mails', max_features)\n",
    "count_vectorizer_test = CountVectorizer(vocabulary=vocabulary)\n",
    "feature_matrix_test = count_vectorizer.fit_transform(emails_array)"
   ]
  },
  {
   "cell_type": "code",
   "execution_count": 135,
   "metadata": {},
   "outputs": [
    {
     "name": "stdout",
     "output_type": "stream",
     "text": [
      "0.962\n"
     ]
    }
   ],
   "source": [
    "get_accuracy(feature_matrix_test, labels_test, spam_words_distribution, ham_words_distribution)"
   ]
  },
  {
   "cell_type": "markdown",
   "metadata": {},
   "source": [
    "# Sklearn MultinomialNB"
   ]
  },
  {
   "cell_type": "code",
   "execution_count": 30,
   "metadata": {},
   "outputs": [],
   "source": [
    "# labels"
   ]
  },
  {
   "cell_type": "code",
   "execution_count": 137,
   "metadata": {},
   "outputs": [],
   "source": [
    "from sklearn.naive_bayes import MultinomialNB"
   ]
  },
  {
   "cell_type": "code",
   "execution_count": 142,
   "metadata": {},
   "outputs": [],
   "source": [
    "clf = MultinomialNB(alpha=1, class_prior=[0.5, 0.5], fit_prior=False)"
   ]
  },
  {
   "cell_type": "code",
   "execution_count": 146,
   "metadata": {},
   "outputs": [
    {
     "data": {
      "text/plain": [
       "array([[1.150e+02, 1.670e+02, 4.100e+01, ..., 5.000e+00, 4.000e+00,\n",
       "        7.000e+00],\n",
       "       [1.308e+03, 1.135e+03, 1.175e+03, ..., 3.000e+00, 4.000e+00,\n",
       "        1.000e+00]])"
      ]
     },
     "execution_count": 146,
     "metadata": {},
     "output_type": "execute_result"
    }
   ],
   "source": [
    "clf.feature_count_"
   ]
  },
  {
   "cell_type": "code",
   "execution_count": 144,
   "metadata": {},
   "outputs": [
    {
     "data": {
      "text/plain": [
       "MultinomialNB(alpha=1, class_prior=[0.5, 0.5], fit_prior=False)"
      ]
     },
     "execution_count": 144,
     "metadata": {},
     "output_type": "execute_result"
    }
   ],
   "source": [
    "clf.fit(feature_matrix, labels)"
   ]
  },
  {
   "cell_type": "code",
   "execution_count": 147,
   "metadata": {},
   "outputs": [
    {
     "name": "stdout",
     "output_type": "stream",
     "text": [
      "(2, 3000)\n",
      "(2, 3000)\n",
      "(2,)\n",
      "[0.5, 0.5]\n"
     ]
    }
   ],
   "source": [
    "print(clf.feature_log_prob_.shape)\n",
    "print(clf.feature_count_.shape)\n",
    "print(clf.class_log_prior_.shape)\n",
    "print(clf.class_prior)"
   ]
  },
  {
   "cell_type": "code",
   "execution_count": 148,
   "metadata": {},
   "outputs": [
    {
     "data": {
      "text/plain": [
       "0.99002849002849"
      ]
     },
     "execution_count": 148,
     "metadata": {},
     "output_type": "execute_result"
    }
   ],
   "source": [
    "clf.score(feature_matrix, labels)"
   ]
  },
  {
   "cell_type": "code",
   "execution_count": 149,
   "metadata": {},
   "outputs": [
    {
     "data": {
      "text/plain": [
       "0.9615384615384616"
      ]
     },
     "execution_count": 149,
     "metadata": {},
     "output_type": "execute_result"
    }
   ],
   "source": [
    "clf.score(feature_matrix_test, labels_test)"
   ]
  },
  {
   "cell_type": "code",
   "execution_count": 45,
   "metadata": {},
   "outputs": [
    {
     "name": "stdout",
     "output_type": "stream",
     "text": [
      "[False False  True False  True  True  True  True False False]\n"
     ]
    }
   ],
   "source": [
    "print(clf.predict(feature_matrix_test[100:110]))"
   ]
  },
  {
   "cell_type": "code",
   "execution_count": 150,
   "metadata": {},
   "outputs": [
    {
     "name": "stdout",
     "output_type": "stream",
     "text": [
      "[4.32577416e-203 9.25701855e-168 1.00000000e+000 9.54021707e-106\n",
      " 1.00000000e+000 1.00000000e+000 9.99990147e-001 1.00000000e+000\n",
      " 2.04412793e-077 7.70903147e-057]\n"
     ]
    }
   ],
   "source": [
    "print(clf.predict_proba(feature_matrix_test[100:110])[:,1])"
   ]
  },
  {
   "cell_type": "code",
   "execution_count": 167,
   "metadata": {},
   "outputs": [],
   "source": [
    "train_scores = []\n",
    "test_scores = []\n",
    "for alpha in [0.001, 0.2, 0.5, 1, 1.5, 2, 5, 10, 20, 40, 50, 100]:\n",
    "    clf = MultinomialNB(alpha=alpha, class_prior=[0.5, 0.5], fit_prior=False)\n",
    "    clf.fit(feature_matrix, labels)\n",
    "    test_scores.append(clf.score(feature_matrix_test, labels_test))\n",
    "    train_scores.append(clf.score(feature_matrix, labels))\n",
    "    "
   ]
  },
  {
   "cell_type": "code",
   "execution_count": 168,
   "metadata": {},
   "outputs": [
    {
     "data": {
      "text/plain": [
       "[0.9615384615384616,\n",
       " 0.9615384615384616,\n",
       " 0.9615384615384616,\n",
       " 0.9615384615384616,\n",
       " 0.9615384615384616,\n",
       " 0.9615384615384616,\n",
       " 0.9615384615384616,\n",
       " 0.9653846153846154,\n",
       " 0.9615384615384616,\n",
       " 0.9576923076923077,\n",
       " 0.9576923076923077,\n",
       " 0.95]"
      ]
     },
     "execution_count": 168,
     "metadata": {},
     "output_type": "execute_result"
    }
   ],
   "source": [
    "test_scores"
   ]
  },
  {
   "cell_type": "markdown",
   "metadata": {},
   "source": [
    "# Sklearn BernoulliNB\n",
    "Suele ser interesante evaluar Multinomial y Bernoulli para comparar resultados. A veces para textos cortos BernoulliNB puede dar mejores resultados"
   ]
  },
  {
   "cell_type": "code",
   "execution_count": 175,
   "metadata": {},
   "outputs": [],
   "source": [
    "from sklearn.naive_bayes import BernoulliNB"
   ]
  },
  {
   "cell_type": "code",
   "execution_count": 170,
   "metadata": {},
   "outputs": [],
   "source": [
    "clf_Ber = BernoulliNB(alpha=1, class_prior=[0.5, 0.5], fit_prior=False, binarize=0.5)"
   ]
  },
  {
   "cell_type": "code",
   "execution_count": 153,
   "metadata": {},
   "outputs": [
    {
     "data": {
      "text/plain": [
       "BernoulliNB(alpha=1, binarize=0.5, class_prior=[0.5, 0.5], fit_prior=False)"
      ]
     },
     "execution_count": 153,
     "metadata": {},
     "output_type": "execute_result"
    }
   ],
   "source": [
    "clf_Ber.fit(feature_matrix, labels)"
   ]
  },
  {
   "cell_type": "code",
   "execution_count": 154,
   "metadata": {},
   "outputs": [
    {
     "data": {
      "text/plain": [
       "0.8603988603988604"
      ]
     },
     "execution_count": 154,
     "metadata": {},
     "output_type": "execute_result"
    }
   ],
   "source": [
    "clf_Ber.score(feature_matrix, labels)"
   ]
  },
  {
   "cell_type": "code",
   "execution_count": 155,
   "metadata": {},
   "outputs": [
    {
     "data": {
      "text/plain": [
       "0.7653846153846153"
      ]
     },
     "execution_count": 155,
     "metadata": {},
     "output_type": "execute_result"
    }
   ],
   "source": [
    "clf_Ber.score(feature_matrix_test, labels_test)"
   ]
  },
  {
   "cell_type": "code",
   "execution_count": 172,
   "metadata": {},
   "outputs": [],
   "source": [
    "train_scores = []\n",
    "test_scores = []\n",
    "for alpha in [0.001, 0.2, 0.5, 1, 1.5, 2, 5, 10, 20, 40, 50, 100]:\n",
    "    clf = BernoulliNB(alpha=alpha, class_prior=[0.5, 0.5], fit_prior=False)\n",
    "    clf.fit(feature_matrix, labels)\n",
    "    test_scores.append(clf.score(feature_matrix_test, labels_test))\n",
    "    train_scores.append(clf.score(feature_matrix, labels))\n",
    "    "
   ]
  },
  {
   "cell_type": "code",
   "execution_count": 174,
   "metadata": {},
   "outputs": [
    {
     "data": {
      "text/plain": [
       "[0.8384615384615385,\n",
       " 0.7923076923076923,\n",
       " 0.7769230769230769,\n",
       " 0.7653846153846153,\n",
       " 0.7653846153846153,\n",
       " 0.7653846153846153,\n",
       " 0.75,\n",
       " 0.7038461538461539,\n",
       " 0.6846153846153846,\n",
       " 0.6692307692307692,\n",
       " 0.6538461538461539,\n",
       " 0.6192307692307693]"
      ]
     },
     "execution_count": 174,
     "metadata": {},
     "output_type": "execute_result"
    }
   ],
   "source": [
    "test_scores"
   ]
  },
  {
   "cell_type": "markdown",
   "metadata": {},
   "source": [
    "# ¿Es posible graficar un problema de dimensión 3000 en 2 dimensiones?"
   ]
  },
  {
   "cell_type": "code",
   "execution_count": 176,
   "metadata": {},
   "outputs": [
    {
     "data": {
      "text/plain": [
       "(702, 3000)"
      ]
     },
     "execution_count": 176,
     "metadata": {},
     "output_type": "execute_result"
    }
   ],
   "source": [
    "feature_matrix.shape"
   ]
  },
  {
   "cell_type": "code",
   "execution_count": 179,
   "metadata": {},
   "outputs": [],
   "source": [
    "from sklearn.manifold import TSNE\n",
    "from sklearn.decomposition import TruncatedSVD\n",
    "fmd = feature_matrix.todense()\n",
    "svd = TruncatedSVD(n_components=8, n_iter=200, random_state=42)\n",
    "svd.fit(fmd.T)\n",
    "X_embedded = TSNE(n_components=2).fit_transform(svd.components_.T)"
   ]
  },
  {
   "cell_type": "code",
   "execution_count": 180,
   "metadata": {},
   "outputs": [
    {
     "data": {
      "image/png": "[encoded data removed]",
      "text/plain": [
       "<Figure size 1440x720 with 1 Axes>"
      ]
     },
     "metadata": {
      "needs_background": "light"
     },
     "output_type": "display_data"
    }
   ],
   "source": [
    "plt.figure(figsize=(20,10))\n",
    "plt.scatter(X_embedded[labels,0], X_embedded[labels,1], color='b', s=10)\n",
    "plt.scatter(X_embedded[np.logical_not(labels),0], X_embedded[np.logical_not(labels),1], color='r', s=10)\n",
    "plt.show()"
   ]
  },
  {
   "cell_type": "code",
   "execution_count": 181,
   "metadata": {},
   "outputs": [
    {
     "data": {
      "text/plain": [
       "(702, 3000)"
      ]
     },
     "execution_count": 181,
     "metadata": {},
     "output_type": "execute_result"
    }
   ],
   "source": [
    "fmd.shape"
   ]
  },
  {
   "cell_type": "code",
   "execution_count": 182,
   "metadata": {},
   "outputs": [],
   "source": [
    "from sklearn.decomposition import PCA"
   ]
  },
  {
   "cell_type": "code",
   "execution_count": 183,
   "metadata": {},
   "outputs": [],
   "source": [
    "pca = PCA(n_components=2)\n",
    "X_new = pca.fit_transform(fmd)"
   ]
  },
  {
   "cell_type": "code",
   "execution_count": 184,
   "metadata": {},
   "outputs": [
    {
     "data": {
      "image/png": "[encoded data removed]",
      "text/plain": [
       "<Figure size 1440x720 with 1 Axes>"
      ]
     },
     "metadata": {
      "needs_background": "light"
     },
     "output_type": "display_data"
    }
   ],
   "source": [
    "plt.figure(figsize=(20,10))\n",
    "plt.scatter(X_new[labels,0], X_new[labels,1], color='b', s=10)\n",
    "plt.scatter(X_new[np.logical_not(labels),0], X_new[np.logical_not(labels),1], color='r', s=10)\n",
    "plt.ylim([-2,2])\n",
    "plt.xlim([-10,10])\n",
    "plt.show()"
   ]
  },
  {
   "cell_type": "code",
   "execution_count": null,
   "metadata": {},
   "outputs": [],
   "source": []
  }
 ],
 "metadata": {
  "kernelspec": {
   "display_name": "Python 3",
   "language": "python",
   "name": "python3"
  },
  "language_info": {
   "codemirror_mode": {
    "name": "ipython",
    "version": 3
   },
   "file_extension": ".py",
   "mimetype": "text/x-python",
   "name": "python",
   "nbconvert_exporter": "python",
   "pygments_lexer": "ipython3",
   "version": "3.8.5"
  },
  "toc": {
   "colors": {
    "hover_highlight": "#DAA520",
    "navigate_num": "#000000",
    "navigate_text": "#333333",
    "running_highlight": "#FF0000",
    "selected_highlight": "#FFD700",
    "sidebar_border": "#EEEEEE",
    "wrapper_background": "#FFFFFF"
   },
   "moveMenuLeft": true,
   "nav_menu": {
    "height": "48px",
    "width": "252px"
   },
   "navigate_menu": true,
   "number_sections": true,
   "sideBar": false,
   "threshold": 4,
   "toc_cell": false,
   "toc_position": {
    "height": "295px",
    "left": "1px",
    "right": "20px",
    "top": "67px",
    "width": "212px"
   },
   "toc_section_display": "block",
   "toc_window_display": false,
   "widenNotebook": false
  }
 },
 "nbformat": 4,
 "nbformat_minor": 4
}
