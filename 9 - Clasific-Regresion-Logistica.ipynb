{
 "cells": [
  {
   "cell_type": "code",
   "execution_count": 16,
   "metadata": {},
   "outputs": [
    {
     "name": "stdout",
     "output_type": "stream",
     "text": [
      "The autoreload extension is already loaded. To reload it, use:\n",
      "  %reload_ext autoreload\n"
     ]
    }
   ],
   "source": [
    "# Estos dos comandos evitan que haya que hacer reload cada vez que se modifica un paquete\n",
    "%load_ext autoreload\n",
    "%autoreload 2\n",
    "%config InlineBackend.figure_format = 'retina'"
   ]
  },
  {
   "cell_type": "markdown",
   "metadata": {},
   "source": [
    "Anotaciones:\n",
    "Desde el lado de Estadistica querriamos ver que tan bueno se aproxima a una gaussiana. Desde ML que tan bien generaliza"
   ]
  },
  {
   "cell_type": "code",
   "execution_count": 17,
   "metadata": {},
   "outputs": [],
   "source": [
    "import pandas as pd\n",
    "import numpy as np\n",
    "from matplotlib import pyplot as plt\n",
    "import pandas as pd\n",
    "from collections import Counter\n",
    "from mpl_toolkits.mplot3d import Axes3D"
   ]
  },
  {
   "cell_type": "code",
   "execution_count": 18,
   "metadata": {},
   "outputs": [],
   "source": [
    "data = pd.read_csv('data/alturas-pesos-mils-train.csv')[:-1]"
   ]
  },
  {
   "cell_type": "code",
   "execution_count": 19,
   "metadata": {},
   "outputs": [],
   "source": [
    "test = pd.read_csv('data/alturas-pesos-mils-test.csv')"
   ]
  },
  {
   "cell_type": "code",
   "execution_count": 20,
   "metadata": {},
   "outputs": [],
   "source": [
    "from BiVariateJoint import BiVariateJoint"
   ]
  },
  {
   "cell_type": "code",
   "execution_count": 21,
   "metadata": {},
   "outputs": [],
   "source": [
    "data_hombres = data.loc[data['Genero']=='Hombre'][['Peso','Altura']].values\n",
    "data_mujeres = data.loc[data['Genero']=='Mujer'][['Peso','Altura']].values"
   ]
  },
  {
   "cell_type": "markdown",
   "metadata": {},
   "source": [
    "# Grafico los datos"
   ]
  },
  {
   "cell_type": "code",
   "execution_count": 22,
   "metadata": {},
   "outputs": [],
   "source": [
    "%matplotlib qt\n",
    "f = plt.figure(figsize=(20,10))\n",
    "plt.scatter(data_hombres[:,0], data_hombres[:,1], color='b', s=2, label='Hombres')\n",
    "plt.scatter(data_mujeres[:,0], data_mujeres[:,1], color='r', s=2, label='Mujeres')\n",
    "plt.xlabel('Pesos [cms]')\n",
    "plt.ylabel('Alturas [cms]')\n",
    "plt.legend()\n",
    "plt.show()"
   ]
  },
  {
   "cell_type": "markdown",
   "metadata": {},
   "source": [
    "# LDA"
   ]
  },
  {
   "cell_type": "markdown",
   "metadata": {},
   "source": [
    "\\begin{equation}\n",
    "\\large\n",
    "X^TW + C = 0\n",
    "\\end{equation}\n",
    "\n",
    "\\begin{equation}\n",
    "\\large\n",
    "W = \\Sigma^{-1}(\\vec \\mu_0- \\vec \\mu_1)\n",
    "\\end{equation}\n",
    "\n",
    "\\begin{equation}\n",
    "\\large\n",
    "c =  log(\\frac{P(C_0)}{P(C_1)}) - \\frac{1}{2}(\\vec{\\mu}_0+\\vec{\\mu}_1)^T\\Sigma^{-1}(\\vec{\\mu}_0-\\vec{\\mu}_1) = log(\\frac{P(C_0)}{P(C_1)}) - \\frac{1}{2}(\\vec{\\mu}_0+\\vec{\\mu}_1)^T W\n",
    "\\end{equation}"
   ]
  },
  {
   "cell_type": "markdown",
   "metadata": {},
   "source": [
    "# Regresion Logistica"
   ]
  },
  {
   "cell_type": "code",
   "execution_count": 23,
   "metadata": {},
   "outputs": [],
   "source": [
    "from sklearn.linear_model import LogisticRegression"
   ]
  },
  {
   "cell_type": "code",
   "execution_count": 24,
   "metadata": {},
   "outputs": [],
   "source": [
    "log_Reg = LogisticRegression()"
   ]
  },
  {
   "cell_type": "code",
   "execution_count": 25,
   "metadata": {},
   "outputs": [
    {
     "data": {
      "text/plain": [
       "LogisticRegression(C=1.0, class_weight=None, dual=False, fit_intercept=True,\n",
       "          intercept_scaling=1, max_iter=100, multi_class='ovr', n_jobs=1,\n",
       "          penalty='l2', random_state=None, solver='liblinear', tol=0.0001,\n",
       "          verbose=0, warm_start=False)"
      ]
     },
     "execution_count": 25,
     "metadata": {},
     "output_type": "execute_result"
    }
   ],
   "source": [
    "log_Reg.fit(data[['Peso', 'Altura']].values, data['Genero'])"
   ]
  },
  {
   "cell_type": "code",
   "execution_count": 26,
   "metadata": {},
   "outputs": [
    {
     "data": {
      "text/html": [
       "<div>\n",
       "<style scoped>\n",
       "    .dataframe tbody tr th:only-of-type {\n",
       "        vertical-align: middle;\n",
       "    }\n",
       "\n",
       "    .dataframe tbody tr th {\n",
       "        vertical-align: top;\n",
       "    }\n",
       "\n",
       "    .dataframe thead th {\n",
       "        text-align: right;\n",
       "    }\n",
       "</style>\n",
       "<table border=\"1\" class=\"dataframe\">\n",
       "  <thead>\n",
       "    <tr style=\"text-align: right;\">\n",
       "      <th></th>\n",
       "      <th>Peso</th>\n",
       "      <th>Altura</th>\n",
       "    </tr>\n",
       "  </thead>\n",
       "  <tbody>\n",
       "    <tr>\n",
       "      <th>0</th>\n",
       "      <td>61.235</td>\n",
       "      <td>162.402</td>\n",
       "    </tr>\n",
       "    <tr>\n",
       "      <th>1</th>\n",
       "      <td>97.432</td>\n",
       "      <td>181.908</td>\n",
       "    </tr>\n",
       "    <tr>\n",
       "      <th>2</th>\n",
       "      <td>73.324</td>\n",
       "      <td>172.459</td>\n",
       "    </tr>\n",
       "    <tr>\n",
       "      <th>3</th>\n",
       "      <td>55.193</td>\n",
       "      <td>157.748</td>\n",
       "    </tr>\n",
       "    <tr>\n",
       "      <th>4</th>\n",
       "      <td>56.886</td>\n",
       "      <td>151.798</td>\n",
       "    </tr>\n",
       "    <tr>\n",
       "      <th>5</th>\n",
       "      <td>59.834</td>\n",
       "      <td>158.623</td>\n",
       "    </tr>\n",
       "    <tr>\n",
       "      <th>6</th>\n",
       "      <td>77.618</td>\n",
       "      <td>172.705</td>\n",
       "    </tr>\n",
       "    <tr>\n",
       "      <th>7</th>\n",
       "      <td>68.889</td>\n",
       "      <td>169.225</td>\n",
       "    </tr>\n",
       "    <tr>\n",
       "      <th>8</th>\n",
       "      <td>53.874</td>\n",
       "      <td>155.487</td>\n",
       "    </tr>\n",
       "    <tr>\n",
       "      <th>9</th>\n",
       "      <td>83.248</td>\n",
       "      <td>177.908</td>\n",
       "    </tr>\n",
       "  </tbody>\n",
       "</table>\n",
       "</div>"
      ],
      "text/plain": [
       "     Peso   Altura\n",
       "0  61.235  162.402\n",
       "1  97.432  181.908\n",
       "2  73.324  172.459\n",
       "3  55.193  157.748\n",
       "4  56.886  151.798\n",
       "5  59.834  158.623\n",
       "6  77.618  172.705\n",
       "7  68.889  169.225\n",
       "8  53.874  155.487\n",
       "9  83.248  177.908"
      ]
     },
     "execution_count": 26,
     "metadata": {},
     "output_type": "execute_result"
    }
   ],
   "source": [
    "data[['Peso', 'Altura']][:10]"
   ]
  },
  {
   "cell_type": "code",
   "execution_count": 34,
   "metadata": {},
   "outputs": [
    {
     "name": "stdout",
     "output_type": "stream",
     "text": [
      "0.9166145768221028\n"
     ]
    }
   ],
   "source": [
    "acc_train_LR = log_Reg.score(data[['Peso', 'Altura']].values, data['Genero'])\n",
    "print(acc_train_LR)"
   ]
  },
  {
   "cell_type": "code",
   "execution_count": 35,
   "metadata": {},
   "outputs": [
    {
     "name": "stdout",
     "output_type": "stream",
     "text": [
      "0.922\n"
     ]
    }
   ],
   "source": [
    "acc_CV_LR = log_Reg.score(test[['Peso', 'Altura']].values, test['Genero'])\n",
    "print(acc_CV_LR)"
   ]
  },
  {
   "cell_type": "code",
   "execution_count": 29,
   "metadata": {},
   "outputs": [
    {
     "data": {
      "text/plain": [
       "array([[0.99666625, 0.00333375],\n",
       "       [0.01264872, 0.98735128],\n",
       "       [0.05577877, 0.94422123],\n",
       "       ...,\n",
       "       [0.00175388, 0.99824612],\n",
       "       [0.96832605, 0.03167395],\n",
       "       [0.0164604 , 0.9835396 ]])"
      ]
     },
     "execution_count": 29,
     "metadata": {},
     "output_type": "execute_result"
    }
   ],
   "source": [
    "log_Reg.predict_proba(test[['Peso', 'Altura']].values)"
   ]
  },
  {
   "cell_type": "code",
   "execution_count": 33,
   "metadata": {},
   "outputs": [],
   "source": [
    "N = 300\n",
    "X = np.linspace(data.min()['Peso'], data.max()['Peso'], N)\n",
    "Y = np.linspace(data.min()['Altura'], data.max()['Altura'], N)\n",
    "X, Y = np.meshgrid(X, Y)\n",
    "\n",
    "Z_lr = log_Reg.predict_proba(np.c_[X.ravel(), Y.ravel()])[:, 0]\n",
    "\n",
    "# Put the result into a color plot\n",
    "Z_lr = Z_lr.reshape(X.shape)"
   ]
  },
  {
   "cell_type": "code",
   "execution_count": 57,
   "metadata": {},
   "outputs": [],
   "source": [
    "%matplotlib qt\n",
    "fig = plt.figure(figsize=(20,10))\n",
    "ax = fig.gca(projection='3d')\n",
    "cm_blues = plt.cm.Blues\n",
    "cm_greens = plt.cm.Reds\n",
    "ax.contourf(X, Y, Z_lr, 512, vmin=0., vmax=1., cmap=cm_blues)\n",
    "ax.contourf(X, Y, 1-Z_lr, 512, vmin=0., vmax=1., cmap=cm_greens)\n",
    "# ax.set_title('TRAIN: ' + str(np.round(acc_train_LR*100)/100) + ' - CV:' + str(np.round(acc_CV_LR*100)/100))\n",
    "ax.set_ylabel('Alturas [cms]')\n",
    "ax.set_xlabel('Pesos [kgs]')\n",
    "ax.view_init(70, -90)\n",
    "plt.show()"
   ]
  },
  {
   "cell_type": "code",
   "execution_count": 43,
   "metadata": {},
   "outputs": [],
   "source": [
    "%matplotlib qt\n",
    "fig = plt.figure(figsize=(20,10))\n",
    "ax = fig.gca()\n",
    "cm = plt.cm.RdBu\n",
    "cf = ax.contourf(X, Y, Z_lr, 256, alpha=.5, vmin=0., vmax=1., cmap=cm)\n",
    "plt.colorbar(cf, ax=ax)\n",
    "ax.contour(X, Y, Z_lr, (0.5,), colors='k', linewidths=0.5)\n",
    "plt.scatter(data_hombres[:,0], data_hombres[:,1], color='b', s=2, alpha=0.5)\n",
    "plt.scatter(data_mujeres[:,0], data_mujeres[:,1], color='r', s=2, alpha=0.5)\n",
    "ax.set_ylabel('Alturas [cms]')\n",
    "ax.set_xlabel('Pesos [kgs]')\n",
    "plt.title('Regresión Logística')\n",
    "plt.show()"
   ]
  },
  {
   "cell_type": "markdown",
   "metadata": {},
   "source": [
    "|Modelo| tipo| Train Acc| CV Acc|Comentarios\n",
    "|-| -| -| -|-|\n",
    "|Histogram - step 0.25|Bayes|0.97|0.68\n",
    "|Histogram - step 0.25|Naive Bayes|0.89|0.88\n",
    "|Histogram - step 0.5|Bayes|0.94|0.82\n",
    "|Histogram - step 0.5|Naive Bayes|0.89|0.88\n",
    "|Histogram - step 1|Bayes|0.92|0.90\n",
    "|Histogram - step 1|Naive Bayes|0.89|0.88\n",
    "|Histogram - step 4|Bayes|0.91|0.92| No generaliza por afuera de la zona de los puntos\n",
    "|Histogram - step 4|Naive Bayes|0.89|0.88\n",
    "|Histogram - step 8|Bayes|0.90|0.90\n",
    "|Histogram - step 8|Naive Bayes|0.87|0.86\n",
    "|Gaussian|Bayes|0.92|0.92|\n",
    "|Gaussian|Naive Bayes|0.89|0.89|\n",
    "|Regresion Logística|-|0.92|0.92|"
   ]
  }
 ],
 "metadata": {
  "kernelspec": {
   "display_name": "Python 3",
   "language": "python",
   "name": "python3"
  },
  "language_info": {
   "codemirror_mode": {
    "name": "ipython",
    "version": 3
   },
   "file_extension": ".py",
   "mimetype": "text/x-python",
   "name": "python",
   "nbconvert_exporter": "python",
   "pygments_lexer": "ipython3",
   "version": "3.8.5"
  }
 },
 "nbformat": 4,
 "nbformat_minor": 4
}
